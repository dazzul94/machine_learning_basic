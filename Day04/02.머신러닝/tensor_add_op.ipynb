{
 "cells": [
  {
   "cell_type": "code",
   "execution_count": 2,
   "metadata": {},
   "outputs": [
    {
     "name": "stdout",
     "output_type": "stream",
     "text": [
      "6234\n"
     ]
    }
   ],
   "source": [
    "# TensorFlow 추출하기 --- (※1)\n",
    "import tensorflow as tf\n",
    "# 상수 정의 --- (※2)\n",
    "a = tf.constant(1234)\n",
    "b = tf.constant(5000)\n",
    "# 계산 정의 --- (※3)\n",
    "add_op = a + b\n",
    "# 세션 시작하기 --- (※4)\n",
    "sess = tf.Session()\n",
    "res = sess.run(add_op) # 식 평가하기\n",
    "print(res)"
   ]
  }
 ],
 "metadata": {
  "kernelspec": {
   "display_name": "Python 3",
   "language": "python",
   "name": "python3"
  },
  "language_info": {
   "codemirror_mode": {
    "name": "ipython",
    "version": 3
   },
   "file_extension": ".py",
   "mimetype": "text/x-python",
   "name": "python",
   "nbconvert_exporter": "python",
   "pygments_lexer": "ipython3",
   "version": "3.7.6"
  }
 },
 "nbformat": 4,
 "nbformat_minor": 4
}
