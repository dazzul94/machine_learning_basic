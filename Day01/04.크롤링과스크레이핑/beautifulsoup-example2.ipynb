{
 "cells": [
  {
   "cell_type": "code",
   "execution_count": 2,
   "metadata": {},
   "outputs": [],
   "source": [
    "#------------------------------------------------\n",
    "# BeautifulSoup example 2\n",
    "#------------------------------------------------\n",
    " \n",
    " # package import\n",
    "from bs4 import BeautifulSoup\n",
    "\n",
    "html = '<td id=\"td1\" class=\"title\">' \\\n",
    "       '  <div class=\"tit3\">' \\\n",
    "       '    <a href=\"/movie/bi/mi/basic.nhn?code=161242\" title=\"범죄도시\">범죄도시</a>' \\\n",
    "       '  </div>' \\\n",
    "       '</td>'"
   ]
  },
  {
   "cell_type": "code",
   "execution_count": 3,
   "metadata": {
    "scrolled": true
   },
   "outputs": [
    {
     "name": "stdout",
     "output_type": "stream",
     "text": [
      "<td class=\"title\" id=\"td1\"> <div class=\"tit3\"> <a href=\"/movie/bi/mi/basic.nhn?code=161242\" title=\"범죄도시\">범죄도시</a> </div></td> <class 'bs4.BeautifulSoup'>\n",
      "<a href=\"/movie/bi/mi/basic.nhn?code=161242\" title=\"범죄도시\">범죄도시</a> <class 'bs4.element.Tag'>\n"
     ]
    }
   ],
   "source": [
    "# 1. 조회\n",
    "def ex1():\n",
    "    # BeautifulSoup객체생성 ( html문자열, 파싱방법을 지정 )\n",
    "    bs = BeautifulSoup(html, 'html.parser')\n",
    "    print(bs, type(bs))\n",
    "    # <td id=\"td1\" class=\"title\"><div class=\"tit3\"><a href=\"/movie/bi/mi/basic.nhn?code=161242\" title=\"범죄도시\">범죄도시</a></div></td> <class 'bs4.BeautifulSoup'>\n",
    "\n",
    "    # a 태그 출력\n",
    "    tag = bs.a\n",
    "    print(tag, type(tag))\n",
    "    # <a href=\"/movie/bi/mi/basic.nhn?code=161242\" title=\"범죄도시\">범죄도시</a> <class 'bs4.element.Tag'>\n",
    "\n",
    "ex1()"
   ]
  },
  {
   "cell_type": "code",
   "execution_count": 4,
   "metadata": {
    "scrolled": true
   },
   "outputs": [
    {
     "name": "stdout",
     "output_type": "stream",
     "text": [
      "['title']\n",
      "td1\n",
      "{'id': 'td1', 'class': ['title']}\n"
     ]
    },
    {
     "ename": "KeyError",
     "evalue": "'id'",
     "output_type": "error",
     "traceback": [
      "\u001b[1;31m---------------------------------------------------------------------------\u001b[0m",
      "\u001b[1;31mKeyError\u001b[0m                                  Traceback (most recent call last)",
      "\u001b[1;32m<ipython-input-4-be9aca910227>\u001b[0m in \u001b[0;36m<module>\u001b[1;34m\u001b[0m\n\u001b[0;32m     11\u001b[0m     \u001b[0mprint\u001b[0m\u001b[1;33m(\u001b[0m\u001b[0mtag\u001b[0m\u001b[1;33m[\u001b[0m\u001b[1;34m'id'\u001b[0m\u001b[1;33m]\u001b[0m\u001b[1;33m)\u001b[0m        \u001b[1;31m# id가 없으므로 error\u001b[0m\u001b[1;33m\u001b[0m\u001b[1;33m\u001b[0m\u001b[0m\n\u001b[0;32m     12\u001b[0m \u001b[1;33m\u001b[0m\u001b[0m\n\u001b[1;32m---> 13\u001b[1;33m \u001b[0mex2\u001b[0m\u001b[1;33m(\u001b[0m\u001b[1;33m)\u001b[0m\u001b[1;33m\u001b[0m\u001b[1;33m\u001b[0m\u001b[0m\n\u001b[0m",
      "\u001b[1;32m<ipython-input-4-be9aca910227>\u001b[0m in \u001b[0;36mex2\u001b[1;34m()\u001b[0m\n\u001b[0;32m      9\u001b[0m \u001b[1;33m\u001b[0m\u001b[0m\n\u001b[0;32m     10\u001b[0m     \u001b[0mtag\u001b[0m \u001b[1;33m=\u001b[0m \u001b[0mbs\u001b[0m\u001b[1;33m.\u001b[0m\u001b[0mdiv\u001b[0m\u001b[1;33m\u001b[0m\u001b[1;33m\u001b[0m\u001b[0m\n\u001b[1;32m---> 11\u001b[1;33m     \u001b[0mprint\u001b[0m\u001b[1;33m(\u001b[0m\u001b[0mtag\u001b[0m\u001b[1;33m[\u001b[0m\u001b[1;34m'id'\u001b[0m\u001b[1;33m]\u001b[0m\u001b[1;33m)\u001b[0m        \u001b[1;31m# id가 없으므로 error\u001b[0m\u001b[1;33m\u001b[0m\u001b[1;33m\u001b[0m\u001b[0m\n\u001b[0m\u001b[0;32m     12\u001b[0m \u001b[1;33m\u001b[0m\u001b[0m\n\u001b[0;32m     13\u001b[0m \u001b[0mex2\u001b[0m\u001b[1;33m(\u001b[0m\u001b[1;33m)\u001b[0m\u001b[1;33m\u001b[0m\u001b[1;33m\u001b[0m\u001b[0m\n",
      "\u001b[1;32m~\\Anaconda3\\envs\\pyml\\lib\\site-packages\\bs4\\element.py\u001b[0m in \u001b[0;36m__getitem__\u001b[1;34m(self, key)\u001b[0m\n\u001b[0;32m   1319\u001b[0m         \"\"\"tag[key] returns the value of the 'key' attribute for the Tag,\n\u001b[0;32m   1320\u001b[0m         and throws an exception if it's not there.\"\"\"\n\u001b[1;32m-> 1321\u001b[1;33m         \u001b[1;32mreturn\u001b[0m \u001b[0mself\u001b[0m\u001b[1;33m.\u001b[0m\u001b[0mattrs\u001b[0m\u001b[1;33m[\u001b[0m\u001b[0mkey\u001b[0m\u001b[1;33m]\u001b[0m\u001b[1;33m\u001b[0m\u001b[1;33m\u001b[0m\u001b[0m\n\u001b[0m\u001b[0;32m   1322\u001b[0m \u001b[1;33m\u001b[0m\u001b[0m\n\u001b[0;32m   1323\u001b[0m     \u001b[1;32mdef\u001b[0m \u001b[0m__iter__\u001b[0m\u001b[1;33m(\u001b[0m\u001b[0mself\u001b[0m\u001b[1;33m)\u001b[0m\u001b[1;33m:\u001b[0m\u001b[1;33m\u001b[0m\u001b[1;33m\u001b[0m\u001b[0m\n",
      "\u001b[1;31mKeyError\u001b[0m: 'id'"
     ]
    }
   ],
   "source": [
    "# 2. Attribute 값 받아오기\n",
    "def ex2():\n",
    "    bs = BeautifulSoup(html, 'html.parser')\n",
    "\n",
    "    tag = bs.td\n",
    "    print(tag['class'])     # ['title']     => 리스트\n",
    "    print(tag['id'])        # td1\n",
    "    print(tag.attrs)        # {'id': 'td1', 'class': ['title']}   => 딕셔너리\n",
    "\n",
    "    tag = bs.div\n",
    "    print(tag['id'])        # id가 없으므로 error\n",
    "\n",
    "ex2()"
   ]
  },
  {
   "cell_type": "code",
   "execution_count": 5,
   "metadata": {
    "scrolled": true
   },
   "outputs": [
    {
     "name": "stdout",
     "output_type": "stream",
     "text": [
      "<div class=\"tit3\"> <a href=\"/movie/bi/mi/basic.nhn?code=161242\" title=\"범죄도시\">범죄도시</a> </div>\n",
      "<div class=\"tit3\"> <a href=\"/movie/bi/mi/basic.nhn?code=161242\" title=\"범죄도시\">범죄도시</a> </div>\n",
      "None\n",
      "<a href=\"/movie/bi/mi/basic.nhn?code=161242\" title=\"범죄도시\">범죄도시</a>\n"
     ]
    }
   ],
   "source": [
    "# 3. Attribute 검색\n",
    "def ex3():\n",
    "    bs = BeautifulSoup(html, 'html.parser')\n",
    "\n",
    "    # div 태그 중, class가 tit3인 태그를 찾는다.\n",
    "    tag = bs.find('div', attrs={'class': 'tit3'})\n",
    "    print(tag)      # <div class=\"tit3\"> <a href=\"/movie/bi/mi/basic.nhn?code=161242\" title=\"범죄도시\">범죄도시</a> </div>\n",
    "\n",
    "    tag = bs.find('div')\n",
    "    print(tag)      # <div class=\"tit3\"> <a href=\"/movie/bi/mi/basic.nhn?code=161242\" title=\"범죄도시\">범죄도시</a> </div>\n",
    "\n",
    "    # 없는 태그를 조회할 경우\n",
    "    tag = bs.find('td', attrs={'class': 'not_exist'})\n",
    "    print(tag)      # None\n",
    "\n",
    "    # 전체 태그에 대해 title이 범죄도시인 태그를 찾는다.\n",
    "    tag = bs.find(attrs={'title': '범죄도시'})\n",
    "    print(tag)      # <a href=\"/movie/bi/mi/basic.nhn?code=161242\" title=\"범죄도시\">범죄도시</a>\n",
    "\n",
    "ex3()"
   ]
  },
  {
   "cell_type": "code",
   "execution_count": 9,
   "metadata": {},
   "outputs": [
    {
     "name": "stdout",
     "output_type": "stream",
     "text": [
      "<a href=\"/movie/bi/mi/basic.nhn?code=161242\" title=\"범죄도시\">범죄도시</a>\n",
      "범죄도시\n"
     ]
    }
   ],
   "source": [
    "# 4. select(), content() 메서드\n",
    "def ex4():\n",
    "    bs = BeautifulSoup(html, 'html.parser')\n",
    "\n",
    "    # CSS 처럼 셀렉터를 지정할 수 있다.\n",
    "    tag = bs.select(\"td div a\")[0]\n",
    "    print(tag)        # <a href=\"/movie/bi/mi/basic.nhn?code=161242\" title=\"범죄도시\">범죄도시</a>\n",
    "\n",
    "    text = tag.contents[0]\n",
    "    print(text)     # 범죄도시\n",
    "ex4()"
   ]
  },
  {
   "cell_type": "code",
   "execution_count": 10,
   "metadata": {},
   "outputs": [
    {
     "name": "stdout",
     "output_type": "stream",
     "text": [
      "<td class=\"title\" id=\"td1\"> <div class=\"tit3\"> <a href=\"/movie/bi/mi/basic.nhn?code=161242\" title=\"범죄도시\">범죄도시</a> </div></td>\n",
      "<td class=\"title\" id=\"td1\"> </td>\n"
     ]
    }
   ],
   "source": [
    "# 5. extract() 메서드\n",
    "def ex5():\n",
    "    bs = BeautifulSoup(html, 'html.parser')\n",
    "    tag = bs.select(\"td\")[0]\n",
    "    print(tag)      # <td class=\"title\" id=\"td1\"> <div class=\"tit3\"> <a href=\"/movie/bi/mi/basic.nhn?code=161242\" title=\"범죄도시\">범죄도시</a> </div></td>\n",
    "\n",
    "    # div요소를 제거\n",
    "    div_elements = tag.find_all(\"div\")\n",
    "    for div in div_elements:\n",
    "        div.extract()\n",
    "        \n",
    "    print(tag)      # <td class=\"title\" id=\"td1\"> </td>\n",
    "ex5()"
   ]
  }
 ],
 "metadata": {
  "kernelspec": {
   "display_name": "Python 3",
   "language": "python",
   "name": "python3"
  },
  "language_info": {
   "codemirror_mode": {
    "name": "ipython",
    "version": 3
   },
   "file_extension": ".py",
   "mimetype": "text/x-python",
   "name": "python",
   "nbconvert_exporter": "python",
   "pygments_lexer": "ipython3",
   "version": "3.7.6"
  }
 },
 "nbformat": 4,
 "nbformat_minor": 4
}
