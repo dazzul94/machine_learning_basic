{
 "cells": [
  {
   "cell_type": "code",
   "execution_count": 6,
   "metadata": {},
   "outputs": [
    {
     "name": "stdout",
     "output_type": "stream",
     "text": [
      "[[2 0 0]\n",
      " [0 0 1]\n",
      " [1 0 2]]\n"
     ]
    }
   ],
   "source": [
    "from sklearn.metrics import confusion_matrix\n",
    "\n",
    "y_true = [2,0,2,2,0,1]\n",
    "y_pred = [0,0,2,2,0,2]\n",
    "\n",
    "result = confusion_matrix(y_true, y_pred)\n",
    "print(result)"
   ]
  },
  {
   "cell_type": "markdown",
   "metadata": {},
   "source": [
    "※ 해설  \n",
    "[2 0 0]의미:   \n",
    "0을 0이라고 판정한 개수: 2  \n",
    "0을 1이라고 판정한 개수: 0  \n",
    "0를 2라고 판정한 개수: 0  \n",
    "\n",
    "[0 0 1]의미:   \n",
    "1을 0이라고 판정한 개수: 0  \n",
    "1을 1이라고 판정한 개수: 0  \n",
    "1를 2라고 판정한 개수: 1  \n",
    "\n",
    "[1 0 2]의미:   \n",
    "2을 0이라고 판정한 개수: 1  \n",
    "2을 1이라고 판정한 개수: 0  \n",
    "2를 2라고 판정한 개수: 2  "
   ]
  },
  {
   "cell_type": "code",
   "execution_count": 4,
   "metadata": {},
   "outputs": [
    {
     "name": "stdout",
     "output_type": "stream",
     "text": [
      "[[2 0]\n",
      " [1 3]]\n",
      "[[3 1]\n",
      " [0 2]]\n"
     ]
    }
   ],
   "source": [
    "y_true = [1,0,1,1,0,1]\n",
    "y_pred = [0,0,1,1,0,1]\n",
    "\n",
    "result = confusion_matrix(y_true, y_pred)\n",
    "print(result)\n",
    "\n",
    "result = confusion_matrix(y_true, y_pred, labels=[1,0])\n",
    "print(result)"
   ]
  }
 ],
 "metadata": {
  "kernelspec": {
   "display_name": "Python 3",
   "language": "python",
   "name": "python3"
  },
  "language_info": {
   "codemirror_mode": {
    "name": "ipython",
    "version": 3
   },
   "file_extension": ".py",
   "mimetype": "text/x-python",
   "name": "python",
   "nbconvert_exporter": "python",
   "pygments_lexer": "ipython3",
   "version": "3.7.6"
  }
 },
 "nbformat": 4,
 "nbformat_minor": 4
}
