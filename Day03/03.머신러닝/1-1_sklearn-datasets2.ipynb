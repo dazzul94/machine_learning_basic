{
 "cells": [
  {
   "cell_type": "code",
   "execution_count": 9,
   "metadata": {},
   "outputs": [
    {
     "name": "stdout",
     "output_type": "stream",
     "text": [
      "              precision    recall  f1-score   support\n",
      "\n",
      "     class 0       0.75      0.60      0.67         5\n",
      "     class 1       0.33      0.50      0.40         2\n",
      "\n",
      "    accuracy                           0.57         7\n",
      "   macro avg       0.54      0.55      0.53         7\n",
      "weighted avg       0.63      0.57      0.59         7\n",
      "\n"
     ]
    }
   ],
   "source": [
    "from sklearn.metrics import classification_report\n",
    "\n",
    "y_true = [0,0,0,1,1,0,0]\n",
    "y_pred = [0,0,0,0,1,1,1]\n",
    "report = classification_report(y_true, y_pred, target_names=['class 0', 'class 1'])\n",
    "print(report)"
   ]
  },
  {
   "cell_type": "code",
   "execution_count": 10,
   "metadata": {},
   "outputs": [
    {
     "name": "stdout",
     "output_type": "stream",
     "text": [
      "              precision    recall  f1-score   support\n",
      "\n",
      "     class 0       1.00      1.00      1.00         2\n",
      "     class 1       0.50      0.50      0.50         2\n",
      "     class 2       0.67      0.67      0.67         3\n",
      "\n",
      "    accuracy                           0.71         7\n",
      "   macro avg       0.72      0.72      0.72         7\n",
      "weighted avg       0.71      0.71      0.71         7\n",
      "\n"
     ]
    }
   ],
   "source": [
    "from sklearn.metrics import classification_report\n",
    "\n",
    "y_true = [0, 0, 1, 1, 2, 2, 2]\n",
    "y_pred = [0, 0, 1, 2, 2, 2, 1]\n",
    "target_names = ['class 0', 'class 1', 'class 2']\n",
    "\n",
    "report = classification_report(y_true, y_pred, target_names=target_names)\n",
    "print(report)"
   ]
  }
 ],
 "metadata": {
  "kernelspec": {
   "display_name": "Python 3",
   "language": "python",
   "name": "python3"
  },
  "language_info": {
   "codemirror_mode": {
    "name": "ipython",
    "version": 3
   },
   "file_extension": ".py",
   "mimetype": "text/x-python",
   "name": "python",
   "nbconvert_exporter": "python",
   "pygments_lexer": "ipython3",
   "version": "3.7.6"
  }
 },
 "nbformat": 4,
 "nbformat_minor": 4
}
