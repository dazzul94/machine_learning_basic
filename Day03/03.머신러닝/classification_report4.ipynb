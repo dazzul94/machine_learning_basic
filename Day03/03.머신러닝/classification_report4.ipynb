{
 "cells": [
  {
   "cell_type": "code",
   "execution_count": 9,
   "metadata": {},
   "outputs": [
    {
     "name": "stdout",
     "output_type": "stream",
     "text": [
      "sklearn: 0.22.2.post1\n",
      "           f  y_hat    y\n",
      "0   0.244729    1.0  0.0\n",
      "1   1.482220    1.0  1.0\n",
      "2  -1.526433    0.0  0.0\n",
      "3   1.035662    1.0  1.0\n",
      "4   1.861485    1.0  1.0\n",
      "5  -4.148556    0.0  0.0\n",
      "6  -1.153074    0.0  0.0\n",
      "7  -1.332066    0.0  0.0\n",
      "8   1.447944    1.0  1.0\n",
      "9  -0.582239    0.0  0.0\n",
      "10 -1.027759    0.0  1.0\n",
      "11 -0.878385    0.0  0.0\n",
      "12 -0.063016    0.0  1.0\n",
      "13  1.432822    1.0  1.0\n",
      "14 -2.175147    0.0  0.0\n",
      "15  2.167628    1.0  1.0\n"
     ]
    }
   ],
   "source": [
    "# classification_report\n",
    "\n",
    "\n",
    "# confusion_matrix(y_true, y_pred)\n",
    "# accuracy_score(y_true, y_pred)\n",
    "# precision_score(y_true, y_pred)\n",
    "# recall_score(y_true, y_pred)\n",
    "# fbeta_score(y_true, y_pred, beta)\n",
    "# f1_score(y_true, y_pred)\n",
    "# classfication_report(y_true, y_pred)\n",
    "# roc_curve\n",
    "# auc\n",
    "\n",
    "import pandas as pd\n",
    "import numpy as np\n",
    "\n",
    "import sklearn\n",
    "print('sklearn: %s' % sklearn.__version__)\n",
    "\n",
    "\n",
    "from sklearn.datasets import make_classification\n",
    "from sklearn.linear_model import LogisticRegression\n",
    "\n",
    "from sklearn.metrics import confusion_matrix\n",
    "\n",
    "# create and configure model\n",
    "\n",
    "\n",
    "\n",
    "X, y = make_classification(n_samples=16, n_features=2,\n",
    "                           n_informative=2, n_redundant=0,\n",
    "                           random_state=0)\n",
    "#-----------------------------------\n",
    "# model = LogisticRegression().fit(X, y)\n",
    "model = LogisticRegression(solver='liblinear').fit(X, y)\n",
    "# model = LogisticRegression(solver='lbfgs').fit(X, y)\n",
    "#-----------------------------------\n",
    "\n",
    "y_hat = model.predict(X)\n",
    "f_value = model.decision_function(X)\n",
    "\n",
    "df = pd.DataFrame(np.vstack([f_value, y_hat, y]).T, columns=[\"f\", \"y_hat\", \"y\"])\n",
    "df.sort_values(\"f\", ascending=False).reset_index(drop=True)\n",
    "print(df)"
   ]
  },
  {
   "cell_type": "code",
   "execution_count": 11,
   "metadata": {},
   "outputs": [
    {
     "name": "stdout",
     "output_type": "stream",
     "text": [
      "confusion matrix: \n",
      "[[6 2]\n",
      " [1 7]]\n"
     ]
    }
   ],
   "source": [
    "matrix = confusion_matrix(y, y_hat, labels=[1, 0])\n",
    "print('confusion matrix: ')\n",
    "print(matrix)"
   ]
  },
  {
   "cell_type": "code",
   "execution_count": 12,
   "metadata": {},
   "outputs": [
    {
     "name": "stdout",
     "output_type": "stream",
     "text": [
      "recall = 0.75\n",
      "fallout = 0.125\n"
     ]
    }
   ],
   "source": [
    "recall = 6 / (6 + 2)\n",
    "fallout = 1 / (1 + 7)\n",
    "print(\"recall =\", recall)\n",
    "print(\"fallout =\", fallout)"
   ]
  },
  {
   "cell_type": "code",
   "execution_count": 6,
   "metadata": {
    "scrolled": true
   },
   "outputs": [
    {
     "name": "stdout",
     "output_type": "stream",
     "text": [
      "fpr: \n",
      "[0.    0.    0.    0.125 0.125 0.375 0.375 1.   ]\n",
      "tpr:\n",
      "[0.    0.125 0.75  0.75  0.875 0.875 1.    1.   ]\n",
      "thresholds:\n",
      "[ 3.16762769  2.16762769  1.03566193  0.24472855 -0.06301587 -0.87838516\n",
      " -1.02775912 -4.14855612]\n"
     ]
    }
   ],
   "source": [
    "from sklearn.metrics import roc_curve\n",
    "# 1) \n",
    "fpr, tpr, thresholds = roc_curve(y, model.decision_function(X))\n",
    "fpr, tpr, thresholds\n",
    "# 또는 \n",
    "# 2) \n",
    "# fpr, tpr, thresholds = roc_curve(y, model.predict_proba(X)[:, 1])\n",
    "# fpr, tpr, thresholds\n",
    "\n",
    "print('fpr: ')\n",
    "print(fpr)\n",
    "print('tpr:')\n",
    "print(tpr)\n",
    "print('thresholds:')\n",
    "print(thresholds)"
   ]
  },
  {
   "cell_type": "code",
   "execution_count": 5,
   "metadata": {},
   "outputs": [
    {
     "data": {
      "image/png": "[encoded data removed]",
      "text/plain": [
       "<Figure size 432x288 with 1 Axes>"
      ]
     },
     "metadata": {
      "needs_background": "light"
     },
     "output_type": "display_data"
    }
   ],
   "source": [
    "#----------------------------------\n",
    "# ROC curve\n",
    "import matplotlib.pyplot as plt\n",
    "\n",
    "plt.rc('font', family=\"D2Coding\")\n",
    "plt.plot(fpr, tpr, 'o-', label=\"Logistic Regression\")\n",
    "plt.plot([0, 1], [0, 1], 'k--', label=\"random guess\")\n",
    "plt.plot([fallout], [recall], 'ro', ms=10)\n",
    "plt.xlabel('FPR - 위양성률(Fall-Out)')\n",
    "plt.ylabel('TPR - 재현률(Recall)')\n",
    "plt.title('Receiver operating characteristic example')\n",
    "plt.show()"
   ]
  }
 ],
 "metadata": {
  "kernelspec": {
   "display_name": "Python 3",
   "language": "python",
   "name": "python3"
  },
  "language_info": {
   "codemirror_mode": {
    "name": "ipython",
    "version": 3
   },
   "file_extension": ".py",
   "mimetype": "text/x-python",
   "name": "python",
   "nbconvert_exporter": "python",
   "pygments_lexer": "ipython3",
   "version": "3.7.6"
  }
 },
 "nbformat": 4,
 "nbformat_minor": 4
}
