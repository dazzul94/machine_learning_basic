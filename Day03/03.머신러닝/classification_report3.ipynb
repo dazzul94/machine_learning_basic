{
 "cells": [
  {
   "cell_type": "code",
   "execution_count": 3,
   "metadata": {},
   "outputs": [
    {
     "name": "stdout",
     "output_type": "stream",
     "text": [
      "sklearn: 0.22.2.post1\n"
     ]
    }
   ],
   "source": [
    "import pandas as pd\n",
    "import numpy as np\n",
    "\n",
    "import sklearn\n",
    "print('sklearn: %s' % sklearn.__version__)"
   ]
  },
  {
   "cell_type": "code",
   "execution_count": 13,
   "metadata": {
    "scrolled": true
   },
   "outputs": [
    {
     "name": "stdout",
     "output_type": "stream",
     "text": [
      "           f  y_hat    y\n",
      "0   0.244729    1.0  0.0\n",
      "1   1.482220    1.0  1.0\n",
      "2  -1.526433    0.0  0.0\n",
      "3   1.035662    1.0  1.0\n",
      "4   1.861485    1.0  1.0\n",
      "5  -4.148556    0.0  0.0\n",
      "6  -1.153074    0.0  0.0\n",
      "7  -1.332066    0.0  0.0\n",
      "8   1.447944    1.0  1.0\n",
      "9  -0.582239    0.0  0.0\n",
      "10 -1.027759    0.0  1.0\n",
      "11 -0.878385    0.0  0.0\n",
      "12 -0.063016    0.0  1.0\n",
      "13  1.432822    1.0  1.0\n",
      "14 -2.175147    0.0  0.0\n",
      "15  2.167628    1.0  1.0\n"
     ]
    }
   ],
   "source": [
    "from sklearn.datasets import make_classification\n",
    "from sklearn.linear_model import LogisticRegression\n",
    "\n",
    "from sklearn.metrics import confusion_matrix\n",
    "\n",
    "# create and configure model\n",
    "\n",
    "X, y = make_classification(n_samples=16, n_features=2,\n",
    "                          n_informative=2, n_redundant=0,\n",
    "                          random_state=0)\n",
    "#-----------------------------------\n",
    "# model = LogisticRegression().fit(X, y)\n",
    "model = LogisticRegression(solver='liblinear').fit(X, y)\n",
    "# model = LogisticRegression(solver='lbfgs').fit(X, y)\n",
    "#-----------------------------------\n",
    "\n",
    "y_hat = model.predict(X)\n",
    "f_value = model.decision_function(X)\n",
    "\n",
    "df = pd.DataFrame(np.vstack([f_value, y_hat, y]).T, columns=[\"f\",\"y_hat\",\"y\"])\n",
    "df.sort_values(\"f\", ascending=False).reset_index(drop=True)\n",
    "\n",
    "print(df)"
   ]
  },
  {
   "cell_type": "code",
   "execution_count": 11,
   "metadata": {},
   "outputs": [
    {
     "name": "stdout",
     "output_type": "stream",
     "text": [
      "confusion matrix: \n",
      "[[7 1]\n",
      " [1 7]]\n"
     ]
    }
   ],
   "source": [
    "matrix = confusion_matrix(y, y_hat, labels=[1, 0])\n",
    "print('confusion matrix: ')\n",
    "print(matrix)"
   ]
  },
  {
   "cell_type": "code",
   "execution_count": 12,
   "metadata": {
    "scrolled": true
   },
   "outputs": [
    {
     "name": "stdout",
     "output_type": "stream",
     "text": [
      "recall = 0.75\n",
      "fallout = 0.125\n"
     ]
    }
   ],
   "source": [
    "recall = 6 / (6 + 2)\n",
    "fallout = 1 / (1 + 7)\n",
    "print(\"recall =\", recall)\n",
    "print(\"fallout =\", fallout)"
   ]
  },
  {
   "cell_type": "code",
   "execution_count": 14,
   "metadata": {},
   "outputs": [
    {
     "name": "stdout",
     "output_type": "stream",
     "text": [
      "fpr: \n",
      "[0.    0.    0.    0.125 0.125 0.375 0.375 1.   ]\n",
      "tpr:\n",
      "[0.    0.125 0.75  0.75  0.875 0.875 1.    1.   ]\n",
      "thresholds:\n",
      "[ 3.16762769  2.16762769  1.03566193  0.24472855 -0.06301587 -0.87838516\n",
      " -1.02775912 -4.14855612]\n"
     ]
    }
   ],
   "source": [
    "from sklearn.metrics import roc_curve\n",
    "# 1) \n",
    "fpr, tpr, thresholds = roc_curve(y, model.decision_function(X))\n",
    "fpr, tpr, thresholds\n",
    "# 또는 \n",
    "# 2) \n",
    "# fpr, tpr, thresholds = roc_curve(y, model.predict_proba(X)[:, 1])\n",
    "# fpr, tpr, thresholds\n",
    "\n",
    "print('fpr: ')\n",
    "print(fpr)\n",
    "print('tpr:')\n",
    "print(tpr)\n",
    "print('thresholds:')\n",
    "print(thresholds)"
   ]
  }
 ],
 "metadata": {
  "kernelspec": {
   "display_name": "Python 3",
   "language": "python",
   "name": "python3"
  },
  "language_info": {
   "codemirror_mode": {
    "name": "ipython",
    "version": 3
   },
   "file_extension": ".py",
   "mimetype": "text/x-python",
   "name": "python",
   "nbconvert_exporter": "python",
   "pygments_lexer": "ipython3",
   "version": "3.7.6"
  }
 },
 "nbformat": 4,
 "nbformat_minor": 4
}
