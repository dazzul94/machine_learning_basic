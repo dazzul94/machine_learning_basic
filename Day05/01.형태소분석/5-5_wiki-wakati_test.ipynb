{
 "cells": [
  {
   "cell_type": "code",
   "execution_count": 2,
   "metadata": {
    "scrolled": true
   },
   "outputs": [
    {
     "name": "stderr",
     "output_type": "stream",
     "text": [
      "C:\\Users\\dazzul\\Anaconda3\\envs\\pyml\\lib\\site-packages\\ipykernel_launcher.py:6: DeprecationWarning: Call to deprecated `most_similar` (Method will be removed in 4.0.0, use self.wv.most_similar() instead).\n",
      "  \n"
     ]
    },
    {
     "name": "stdout",
     "output_type": "stream",
     "text": [
      "[('바다', 0.7347853183746338),\n",
      " ('들판', 0.7187033891677856),\n",
      " ('기운', 0.6747773885726929),\n",
      " ('대지', 0.6685681343078613),\n",
      " ('햇살', 0.6684026122093201),\n",
      " ('용왕', 0.667410135269165),\n",
      " ('구름', 0.6630775928497314),\n",
      " ('광야', 0.6611565947532654),\n",
      " ('등불', 0.6502135396003723),\n",
      " ('나무', 0.6487886905670166)]\n"
     ]
    }
   ],
   "source": [
    "from gensim.models import word2vec\n",
    "from pprint import pprint\n",
    "\n",
    "# 모델 출력하기\n",
    "model = word2vec.Word2Vec.load(\"./file/wiki.model\")\n",
    "a = model.most_similar(positive=[\"땅\",\"하늘\"])\n",
    "\n",
    "pprint(a)\n"
   ]
  },
  {
   "cell_type": "code",
   "execution_count": 4,
   "metadata": {
    "scrolled": true
   },
   "outputs": [
    {
     "name": "stderr",
     "output_type": "stream",
     "text": [
      "C:\\Users\\dazzul\\Anaconda3\\envs\\pyml\\lib\\site-packages\\ipykernel_launcher.py:1: DeprecationWarning: Call to deprecated `most_similar` (Method will be removed in 4.0.0, use self.wv.most_similar() instead).\n",
      "  \"\"\"Entry point for launching an IPython kernel.\n"
     ]
    },
    {
     "data": {
      "text/plain": [
       "[('왕녀', 0.7314919829368591),\n",
       " ('여왕', 0.6171671152114868),\n",
       " ('이아손', 0.5895237922668457),\n",
       " ('아들', 0.585692286491394),\n",
       " ('대왕', 0.5848723649978638),\n",
       " ('왕비', 0.5842419862747192),\n",
       " ('삼촌', 0.5803186893463135),\n",
       " ('왕세자', 0.5697871446609497),\n",
       " ('시녀', 0.5668401718139648),\n",
       " ('공주', 0.5660519599914551)]"
      ]
     },
     "execution_count": 4,
     "metadata": {},
     "output_type": "execute_result"
    }
   ],
   "source": [
    "model.most_similar(positive=['왕자', '여성'], negative=['남성'])"
   ]
  },
  {
   "cell_type": "code",
   "execution_count": 10,
   "metadata": {},
   "outputs": [
    {
     "name": "stderr",
     "output_type": "stream",
     "text": [
      "C:\\Users\\dazzul\\Anaconda3\\envs\\pyml\\lib\\site-packages\\ipykernel_launcher.py:1: DeprecationWarning: Call to deprecated `most_similar` (Method will be removed in 4.0.0, use self.wv.most_similar() instead).\n",
      "  \"\"\"Entry point for launching an IPython kernel.\n"
     ]
    },
    {
     "data": {
      "text/plain": [
       "[('100000252', 0.9133463501930237),\n",
       " ('[http://cheonan.naralaw.co.kr/main/law_index.php?id=3115',\n",
       "  0.9128737449645996),\n",
       " ('100000636', 0.9122329950332642),\n",
       " ('mper', 0.9113865494728088),\n",
       " ('[http://akb48teamogi.jp/', 0.9109941124916077),\n",
       " ('TeamOgi', 0.9108145236968994),\n",
       " ('Cladonia', 0.9103801250457764),\n",
       " ('3925', 0.9092077612876892),\n",
       " ('Hongje', 0.9091092348098755),\n",
       " ('김효일', 0.9088932275772095)]"
      ]
     },
     "execution_count": 10,
     "metadata": {},
     "output_type": "execute_result"
    }
   ],
   "source": [
    "model.most_similar(positive=['김다솔'])"
   ]
  },
  {
   "cell_type": "code",
   "execution_count": 12,
   "metadata": {},
   "outputs": [
    {
     "name": "stderr",
     "output_type": "stream",
     "text": [
      "C:\\Users\\dazzul\\Anaconda3\\envs\\pyml\\lib\\site-packages\\ipykernel_launcher.py:1: DeprecationWarning: Call to deprecated `most_similar` (Method will be removed in 4.0.0, use self.wv.most_similar() instead).\n",
      "  \"\"\"Entry point for launching an IPython kernel.\n"
     ]
    },
    {
     "data": {
      "text/plain": [
       "[('재혼', 0.9112473726272583),\n",
       " ('약혼', 0.8657733201980591),\n",
       " ('이혼', 0.8333772420883179),\n",
       " ('혼인', 0.7905163764953613),\n",
       " ('파혼', 0.7346612215042114),\n",
       " ('동거', 0.7054898738861084),\n",
       " ('아내', 0.6985583901405334),\n",
       " ('교제', 0.6965629458427429),\n",
       " ('남편', 0.6939517259597778),\n",
       " ('사별', 0.6915899515151978)]"
      ]
     },
     "execution_count": 12,
     "metadata": {},
     "output_type": "execute_result"
    }
   ],
   "source": [
    "model.most_similar(positive=['결혼'])"
   ]
  },
  {
   "cell_type": "code",
   "execution_count": 18,
   "metadata": {},
   "outputs": [
    {
     "name": "stderr",
     "output_type": "stream",
     "text": [
      "C:\\Users\\dazzul\\Anaconda3\\envs\\pyml\\lib\\site-packages\\ipykernel_launcher.py:1: DeprecationWarning: Call to deprecated `most_similar` (Method will be removed in 4.0.0, use self.wv.most_similar() instead).\n",
      "  \"\"\"Entry point for launching an IPython kernel.\n"
     ]
    },
    {
     "data": {
      "text/plain": [
       "[('소녀시대', 0.6424133777618408),\n",
       " ('신승훈', 0.6251076459884644),\n",
       " ('크레용팝', 0.6200834512710571),\n",
       " ('조용필', 0.6141161918640137),\n",
       " ('에이핑크', 0.6123940944671631),\n",
       " ('케이팝', 0.6122081875801086),\n",
       " ('원더걸스', 0.6084063053131104),\n",
       " ('달샤벳', 0.6032662987709045),\n",
       " ('M.net', 0.6010843515396118),\n",
       " ('EXO', 0.6007659435272217)]"
      ]
     },
     "execution_count": 18,
     "metadata": {},
     "output_type": "execute_result"
    }
   ],
   "source": [
    "model.most_similar(positive=['한국', '가수', 'KPOP'])"
   ]
  }
 ],
 "metadata": {
  "kernelspec": {
   "display_name": "Python 3",
   "language": "python",
   "name": "python3"
  },
  "language_info": {
   "codemirror_mode": {
    "name": "ipython",
    "version": 3
   },
   "file_extension": ".py",
   "mimetype": "text/x-python",
   "name": "python",
   "nbconvert_exporter": "python",
   "pygments_lexer": "ipython3",
   "version": "3.7.6"
  }
 },
 "nbformat": 4,
 "nbformat_minor": 4
}
